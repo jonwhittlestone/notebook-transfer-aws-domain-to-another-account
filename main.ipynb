{
 "cells": [
  {
   "cell_type": "markdown",
   "metadata": {},
   "source": [
    "# Transfer AWS domain between accounts\n",
    "\n",
    "Run me with \n",
    "    \n",
    "    jupyter-notebook main.ipynb\n",
    "\n",
    "Use The AWS api profile for the domain-naming owning account.\n",
    "\n",
    "Reference:\n",
    "\n",
    "\n",
    "    https://boto3.amazonaws.com/v1/documentation/api/latest/reference/services/route53domains.html#Route53Domains.Client.transfer_domain_to_another_aws_account"
   ]
  },
  {
   "cell_type": "code",
   "execution_count": 1,
   "metadata": {},
   "outputs": [
    {
     "name": "stdout",
     "output_type": "stream",
     "text": [
      "Requirement already satisfied: boto3 in /home/jon/code/playground/farmbox/venv/lib/python3.8/site-packages (1.17.7)\n",
      "Requirement already satisfied: botocore<1.21.0,>=1.20.7 in /home/jon/code/playground/farmbox/venv/lib/python3.8/site-packages (from boto3) (1.20.7)\n",
      "Requirement already satisfied: jmespath<1.0.0,>=0.7.1 in /home/jon/code/playground/farmbox/venv/lib/python3.8/site-packages (from boto3) (0.10.0)\n",
      "Requirement already satisfied: s3transfer<0.4.0,>=0.3.0 in /home/jon/code/playground/farmbox/venv/lib/python3.8/site-packages (from boto3) (0.3.4)\n",
      "Requirement already satisfied: python-dateutil<3.0.0,>=2.1 in /home/jon/code/playground/farmbox/venv/lib/python3.8/site-packages (from botocore<1.21.0,>=1.20.7->boto3) (2.8.1)\n",
      "Requirement already satisfied: urllib3<1.27,>=1.25.4 in /home/jon/code/playground/farmbox/venv/lib/python3.8/site-packages (from botocore<1.21.0,>=1.20.7->boto3) (1.25.9)\n",
      "Requirement already satisfied: six>=1.5 in /home/jon/code/playground/farmbox/venv/lib/python3.8/site-packages (from python-dateutil<3.0.0,>=2.1->botocore<1.21.0,>=1.20.7->boto3) (1.14.0)\n",
      "\u001b[33mWARNING: You are using pip version 19.2.3, however version 21.0.1 is available.\n",
      "You should consider upgrading via the 'pip install --upgrade pip' command.\u001b[0m\n"
     ]
    }
   ],
   "source": [
    "import sys\n",
    "!{sys.executable} -m pip install boto3"
   ]
  },
  {
   "cell_type": "code",
   "execution_count": 3,
   "metadata": {},
   "outputs": [
    {
     "name": "stdout",
     "output_type": "stream",
     "text": [
      "{'OperationId': 'a3df1ee5-4c7e-4612-bc58-708e1e76ca5f', 'Password': '2GPJDqcW4:Gs5F', 'ResponseMetadata': {'RequestId': '5f3705fc-e5dd-4385-ac08-b78d712ac018', 'HTTPStatusCode': 200, 'HTTPHeaders': {'x-amzn-requestid': '5f3705fc-e5dd-4385-ac08-b78d712ac018', 'content-type': 'application/x-amz-json-1.1', 'content-length': '82', 'date': 'Thu, 18 Feb 2021 07:37:53 GMT'}, 'RetryAttempts': 0}}\n"
     ]
    }
   ],
   "source": [
    "import boto3\n",
    "import os\n",
    "\n",
    "DESTINATION_ACCOUNT = 'CHANGEME'\n",
    "DOMAIN_NAME = 'CHANGEME'\n",
    "\n",
    "\n",
    "if DESTINATION_ACCOUNT == 'CHANGEME' or DOMAIN_NAME == 'CHANGEME':\n",
    "    print('Set the Destination and Domain above first.')\n",
    "else:    \n",
    "    client = client = boto3.client('route53domains')\n",
    "    resp = client.transfer_domain_to_another_aws_account(DomainName=DOMAIN_NAME, AccountId=DESTINATION_ACCOUNT)\n",
    "    print(resp)\n",
    "    "
   ]
  },
  {
   "cell_type": "code",
   "execution_count": null,
   "metadata": {},
   "outputs": [],
   "source": [
    "# Run the below in aws-cli using the destination account API profile (see ~/.aws/credentials)\n",
    "\n",
    "# aws route53domains accept-domain-transfer-from-another-aws-account --profile awshowapped --domain-name engineerworth.consulting --password 2GPJDqcW4:Gs5F\n",
    "\n"
   ]
  }
 ],
 "metadata": {
  "kernelspec": {
   "display_name": "Python 3.8.0 64-bit ('venv': venv)",
   "language": "python",
   "name": "python38064bitvenvvenvd860d8bf84044033b39f84591e049dae"
  },
  "language_info": {
   "codemirror_mode": {
    "name": "ipython",
    "version": 3
   },
   "file_extension": ".py",
   "mimetype": "text/x-python",
   "name": "python",
   "nbconvert_exporter": "python",
   "pygments_lexer": "ipython3",
   "version": "3.8.0"
  }
 },
 "nbformat": 4,
 "nbformat_minor": 5
}
